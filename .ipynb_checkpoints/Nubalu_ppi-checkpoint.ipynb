{
 "cells": [
  {
   "cell_type": "markdown",
   "metadata": {},
   "source": [
    "# Nubalu -- Data Science project\n",
    "by Héctor Ramírez\n",
    "\n",
    "<hr>\n",
    "\n",
    "In this notebook, we construct a predictive model regarding the Spanish Property Price Index (PPI) based on a set of features such as <i>unemployment rate</i> or <i>construction workers</i>. As <a href='https://en.wikipedia.org/wiki/House_price_index'> Wikipedia</a> states: \"A house price index (HPI) measures the price changes of residential housing as a percentage change from some specific start date (which has HPI of 100)\".\n",
    "\n",
    "<hr>\n",
    "\n"
   ]
  },
  {
   "cell_type": "code",
   "execution_count": 1,
   "metadata": {},
   "outputs": [],
   "source": [
    "import pandas as pd\n",
    "import numpy as np\n",
    "import matplotlib.pyplot as plt\n",
    "from sklearn.model_selection import train_test_split, GridSearchCV\n",
    "from sklearn.linear_model import LinearRegression\n",
    "from sklearn.ensemble import RandomForestRegressor\n",
    "from sklearn.metrics import mean_squared_error as mse, r2_score\n",
    "import warnings\n",
    "warnings.filterwarnings('ignore')"
   ]
  },
  {
   "cell_type": "markdown",
   "metadata": {},
   "source": [
    "<hr>\n",
    "Here, we start from an already engineered dataset whose source data come from the <a href='https://www.ine.es/dyngs/INEbase/listaoperaciones.htm'><i>Instituto Nacional de Estadística</i> (INE)</a>. The data set contains 50 non-null entries and 6 features.\n",
    "<hr>"
   ]
  },
  {
   "cell_type": "code",
   "execution_count": 2,
   "metadata": {},
   "outputs": [
    {
     "name": "stdout",
     "output_type": "stream",
     "text": [
      "<class 'pandas.core.frame.DataFrame'>\n",
      "RangeIndex: 50 entries, 0 to 49\n",
      "Data columns (total 7 columns):\n",
      "property_transactions    50 non-null float64\n",
      "mortgages_amount         50 non-null float64\n",
      "consumer_price_index     50 non-null float64\n",
      "gross_income             50 non-null float64\n",
      "unemployment_rate        50 non-null float64\n",
      "construction_workers     50 non-null float64\n",
      "property_price_index     50 non-null float64\n",
      "dtypes: float64(7)\n",
      "memory usage: 2.8 KB\n",
      "None\n"
     ]
    }
   ],
   "source": [
    "data = pd.read_csv('dataset.csv')\n",
    "# data.property_price_index.plot.line()\n",
    "print(data.info())"
   ]
  },
  {
   "cell_type": "markdown",
   "metadata": {},
   "source": [
    "<hr>\n",
    "\n",
    "To start the construction of the predictive model, we assign the features to a set <code>X</code> and keep the target as a <code>y</code> array. Then we split the data into training and test sets using the <code>train_test_split</code> module from <code>sklearn.model_selection</code>. We choose to keep 30% of the data set as test set.\n",
    "\n",
    "<hr>"
   ]
  },
  {
   "cell_type": "code",
   "execution_count": 3,
   "metadata": {},
   "outputs": [],
   "source": [
    "data = pd.read_csv('dataset.csv')\n",
    "# data.property_price_index.plot.line()\n",
    "\n",
    "X = data.drop(['property_price_index'], axis=1)  # Features\n",
    "y = data['property_price_index']  # Target\n",
    "\n",
    "seed = 123\n",
    "\n",
    "X_train, X_test, y_train, y_test = train_test_split(X, y, test_size=0.3, random_state=seed)"
   ]
  },
  {
   "cell_type": "markdown",
   "metadata": {},
   "source": [
    "## Linear Regressor\n",
    "\n",
    "First, we try a simple linear regressor using <code>LinearRegression()</code> from <code>sklearn.linear_model</code>. As test metrics, we will apply the <b>root mean squared error</b> and the <b>coefficient of determination</b> $R^2$ (score)."
   ]
  },
  {
   "cell_type": "code",
   "execution_count": 4,
   "metadata": {},
   "outputs": [
    {
     "name": "stdout",
     "output_type": "stream",
     "text": [
      "Test set RMSE of linear regressor: 4.35\n",
      "Test set score of linear regressor: 0.9414\n"
     ]
    }
   ],
   "source": [
    "lr = LinearRegression()  # we initialize the regressor\n",
    "\n",
    "lr.fit(X_train, y_train)  # fit\n",
    "y_pred_lr = lr.predict(X_test)  # predict\n",
    "\n",
    "lr_error = mse(y_test, y_pred_lr)**(1/2)\n",
    "lr_accuracy = r2_score(y_test, y_pred_lr)\n",
    "\n",
    "print('Test set RMSE of linear regressor: {:.2f}'.format(lr_error))\n",
    "print('Test set score of linear regressor: {:.4f}'.format(lr_accuracy))"
   ]
  },
  {
   "cell_type": "markdown",
   "metadata": {},
   "source": [
    "<hr>\n",
    "The simple Linear Regressor performs fairly well, with a score of 94% when applied on the test set.\n",
    "<hr>\n",
    "\n",
    "## Random Forest\n",
    "\n",
    "However, let's try a slightly more complex regressor using Random Forests. Here, instead of simply suggesting a model, we perform a parameter grid search using <code>GridSearchCV</code> from <code>sklearn.model_selection</code> by varying the number of stimators, the maximum tree depth and the minimum of leaf samples, this while cross-validating the model."
   ]
  },
  {
   "cell_type": "code",
   "execution_count": 5,
   "metadata": {},
   "outputs": [
    {
     "data": {
      "text/plain": [
       "GridSearchCV(cv=3, error_score='raise-deprecating',\n",
       "             estimator=RandomForestRegressor(bootstrap=True, criterion='mse',\n",
       "                                             max_depth=None,\n",
       "                                             max_features='auto',\n",
       "                                             max_leaf_nodes=None,\n",
       "                                             min_impurity_decrease=0.0,\n",
       "                                             min_impurity_split=None,\n",
       "                                             min_samples_leaf=1,\n",
       "                                             min_samples_split=2,\n",
       "                                             min_weight_fraction_leaf=0.0,\n",
       "                                             n_estimators='warn', n_jobs=None,\n",
       "                                             oob_score=False, random_state=123,\n",
       "                                             verbose=0, warm_start=False),\n",
       "             iid='warn', n_jobs=-1,\n",
       "             param_grid={'max_depth': [3, 4, 5],\n",
       "                         'min_samples_leaf': array([0.1 , 0.12, 0.14, 0.16, 0.18]),\n",
       "                         'n_estimators': [600, 700, 800]},\n",
       "             pre_dispatch='2*n_jobs', refit=True, return_train_score=False,\n",
       "             scoring='neg_mean_squared_error', verbose=0)"
      ]
     },
     "execution_count": 5,
     "metadata": {},
     "output_type": "execute_result"
    }
   ],
   "source": [
    "rf_g = RandomForestRegressor(random_state=seed)  # initialize regressor\n",
    "\n",
    "params_rf = {'n_estimators': [600, 700, 800], 'max_depth': [3, 4, 5], 'min_samples_leaf': np.arange(0.1, 0.2, 0.02)}  # params to vary\n",
    "\n",
    "grid_rf = GridSearchCV(estimator=rf_g, param_grid=params_rf, cv=3, scoring='neg_mean_squared_error', verbose=0, n_jobs=-1)  # start grid\n",
    "\n",
    "grid_rf.fit(X_train, y_train)  # fit"
   ]
  },
  {
   "cell_type": "markdown",
   "metadata": {},
   "source": [
    "<hr>\n",
    "After we fit the grid, we extract the best hyperparameters and the best estimator, which we define as <code>best_model</code>. And compute the same metrics as before.\n",
    "<hr>"
   ]
  },
  {
   "cell_type": "code",
   "execution_count": 6,
   "metadata": {},
   "outputs": [
    {
     "name": "stdout",
     "output_type": "stream",
     "text": [
      "Best hyperparameters:\n",
      " {'max_depth': 4, 'min_samples_leaf': 0.1, 'n_estimators': 600}\n",
      "\n",
      "\n",
      "Test set RMSE of complex random forest: 2.83\n",
      "Test set score of complex random forest: 0.9751\n"
     ]
    }
   ],
   "source": [
    "best_hyperparams = grid_rf.best_params_\n",
    "print('Best hyperparameters:\\n', best_hyperparams)\n",
    "\n",
    "best_model = grid_rf.best_estimator_\n",
    "y_pred_grid = best_model.predict(X_test)  # predict\n",
    "\n",
    "grid_rf_error = mse(y_test, y_pred_grid)**(1/2)\n",
    "grid_rf_accuracy = r2_score(y_test, y_pred_grid)\n",
    "\n",
    "print('\\n')\n",
    "print('Test set RMSE of complex random forest: {:.2f}'.format(grid_rf_error))\n",
    "print('Test set score of complex random forest: {:.4f}'.format(grid_rf_accuracy))"
   ]
  },
  {
   "cell_type": "markdown",
   "metadata": {},
   "source": [
    "<hr>\n",
    "As we can see, our RandomForest regressor outperforms the simple linear regresor, with an score of 97% when applied on the test set.\n",
    "<br>\n",
    "Finally, we can take the most important features employed by the RandomForest regressor and show them in a bar plot. We notice that <i>construction_workers</i> is by far the most important feature, followed by <i>mortages amount</i> and the <i>consumer_price_index</i>.\n",
    "<hr>"
   ]
  },
  {
   "cell_type": "code",
   "execution_count": 7,
   "metadata": {},
   "outputs": [
    {
     "data": {
      "image/png": "[encoded data removed]",
      "text/plain": [
       "<Figure size 1080x360 with 1 Axes>"
      ]
     },
     "metadata": {
      "needs_background": "light"
     },
     "output_type": "display_data"
    }
   ],
   "source": [
    "importances_rf = pd.Series(best_model.feature_importances_, index=X.columns)  # get the most importan features\n",
    "sorted_importances_rf = importances_rf.sort_values()\n",
    "\n",
    "plt.figure(figsize=(15, 5))\n",
    "sorted_importances_rf.plot(kind='barh', color='lightgreen')\n",
    "plt.show()"
   ]
  },
  {
   "cell_type": "markdown",
   "metadata": {},
   "source": [
    "<hr>\n",
    "As a final comment, from our bar plot, we can see that there are two features that barely contribute to the RandomForest regressor: <i>gross_income</i> and <i>property_transactions</i>. We could drop them from the training set and build again the regressor. The prediction would slightly improve, giving an $R^2$ of 0.9753.\n",
    "<hr>"
   ]
  }
 ],
 "metadata": {
  "kernelspec": {
   "display_name": "Python 3",
   "language": "python",
   "name": "python3"
  },
  "language_info": {
   "codemirror_mode": {
    "name": "ipython",
    "version": 3
   },
   "file_extension": ".py",
   "mimetype": "text/x-python",
   "name": "python",
   "nbconvert_exporter": "python",
   "pygments_lexer": "ipython3",
   "version": "3.7.5"
  }
 },
 "nbformat": 4,
 "nbformat_minor": 4
}
